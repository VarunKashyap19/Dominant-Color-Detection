{
  "nbformat": 4,
  "nbformat_minor": 0,
  "metadata": {
    "colab": {
      "provenance": [],
      "authorship_tag": "ABX9TyO852MOqOQZLtzJyXUidxiV",
      "include_colab_link": true
    },
    "kernelspec": {
      "name": "python3",
      "display_name": "Python 3"
    },
    "language_info": {
      "name": "python"
    }
  },
  "cells": [
    {
      "cell_type": "markdown",
      "metadata": {
        "id": "view-in-github",
        "colab_type": "text"
      },
      "source": [
        "<a href=\"https://colab.research.google.com/github/VarunKashyap19/Landmark-Detection-ML-/blob/main/Landmark_Detection.ipynb\" target=\"_parent\"><img src=\"https://colab.research.google.com/assets/colab-badge.svg\" alt=\"Open In Colab\"/></a>"
      ]
    },
    {
      "cell_type": "code",
      "execution_count": null,
      "metadata": {
        "id": "RftV6azcSQrs"
      },
      "outputs": [],
      "source": [
        "import numpy as np\n",
        "import pandas as pd\n",
        "import keras\n",
        "import cv2\n",
        "from matplotlib import pyplot as plt\n",
        "import os\n",
        "import random\n",
        "from PIL import Image"
      ]
    },
    {
      "cell_type": "code",
      "source": [
        "samples = 20000\n",
        "df = pd.read_csv(\"train.csv\")\n",
        "df = df.loc[:samples,:]\n",
        "num_classes = len(df[\"landmark_id\"].unique())\n",
        "num_data = len(df)"
      ],
      "metadata": {
        "id": "omFhxFceW3to"
      },
      "execution_count": 4,
      "outputs": []
    },
    {
      "cell_type": "code",
      "source": [
        "print(\"Size of training data:\", df.shape)\n",
        "print(\"Number of unique classes:\", num_classes)"
      ],
      "metadata": {
        "colab": {
          "base_uri": "https://localhost:8080/"
        },
        "id": "bz7Lfz7uYJhE",
        "outputId": "8e80a6dd-4ec9-4435-8117-905a8879a28c"
      },
      "execution_count": 5,
      "outputs": [
        {
          "output_type": "stream",
          "name": "stdout",
          "text": [
            "Size of training data: (20001, 2)\n",
            "Number of unique classes: 1020\n"
          ]
        }
      ]
    },
    {
      "cell_type": "code",
      "source": [
        "data = pd.DataFrame(df['landmark_id'].value_counts())\n",
        "#index the data frame\n",
        "data.reset_index(inplace=True)\n",
        "data.columns=['landmark_id','count']\n",
        "\n",
        "print(data.head(10))\n",
        "print(data.tail(10))"
      ],
      "metadata": {
        "colab": {
          "base_uri": "https://localhost:8080/"
        },
        "id": "F2QdQCHPYP98",
        "outputId": "62e6709a-9f7b-47e5-9ade-8f2888c5716b"
      },
      "execution_count": 6,
      "outputs": [
        {
          "output_type": "stream",
          "name": "stdout",
          "text": [
            "   landmark_id  count\n",
            "0         1924    944\n",
            "1           27    504\n",
            "2          454    254\n",
            "3         1346    244\n",
            "4         1127    201\n",
            "5          870    193\n",
            "6         2185    177\n",
            "7         1101    162\n",
            "8          389    140\n",
            "9          219    139\n",
            "      landmark_id  count\n",
            "1010         1404      2\n",
            "1011         1403      2\n",
            "1012          585      2\n",
            "1013          604      2\n",
            "1014          611      2\n",
            "1015          625      2\n",
            "1016         1250      2\n",
            "1017         2239      2\n",
            "1018          655      2\n",
            "1019         1064      2\n"
          ]
        }
      ]
    },
    {
      "cell_type": "code",
      "source": [
        "print(data['count'].describe())#statistical data for the distribution\n",
        "plt.hist(data['count'],100,range = (0,944),label = 'test')#Histogram of the distribution\n",
        "plt.xlabel(\"Amount of images\")\n",
        "plt.ylabel(\"Occurences\")"
      ],
      "metadata": {
        "colab": {
          "base_uri": "https://localhost:8080/",
          "height": 623
        },
        "id": "Ev0LDa5NYWjh",
        "outputId": "5f6314c0-41ed-44c0-e237-f7d6024b8806"
      },
      "execution_count": 7,
      "outputs": [
        {
          "output_type": "stream",
          "name": "stdout",
          "text": [
            "count    1020.000000\n",
            "mean       19.608824\n",
            "std        41.653684\n",
            "min         2.000000\n",
            "25%         5.000000\n",
            "50%         9.000000\n",
            "75%        21.000000\n",
            "max       944.000000\n",
            "Name: count, dtype: float64\n"
          ]
        },
        {
          "output_type": "execute_result",
          "data": {
            "text/plain": [
              "Text(0, 0.5, 'Occurences')"
            ]
          },
          "metadata": {},
          "execution_count": 7
        },
        {
          "output_type": "display_data",
          "data": {
            "text/plain": [
              "<Figure size 640x480 with 1 Axes>"
            ],
            "image/png": "[encoded data removed]"
          },
          "metadata": {}
        }
      ]
    },
    {
      "cell_type": "code",
      "source": [
        "print(\"Amount of classes with five and less datapoints:\", (data['count'].between(0,5)).sum())\n",
        "\n",
        "print(\"Amount of classes with with between five and 10 datapoints:\", (data['count'].between(5,10)).sum())\n",
        "\n",
        "n = plt.hist(df[\"landmark_id\"],bins=df[\"landmark_id\"].unique())\n",
        "freq_info = n[0]\n",
        "\n",
        "plt.xlim(0,data['landmark_id'].max())\n",
        "plt.ylim(0,data['count'].max())\n",
        "plt.xlabel('Landmark ID')\n",
        "plt.ylabel('Number of images')"
      ],
      "metadata": {
        "colab": {
          "base_uri": "https://localhost:8080/",
          "height": 501
        },
        "id": "tSFXTF9-Ybe5",
        "outputId": "09722e80-f867-415e-bf5d-e6b379dee24d"
      },
      "execution_count": 8,
      "outputs": [
        {
          "output_type": "stream",
          "name": "stdout",
          "text": [
            "Amount of classes with five and less datapoints: 322\n",
            "Amount of classes with with between five and 10 datapoints: 342\n"
          ]
        },
        {
          "output_type": "execute_result",
          "data": {
            "text/plain": [
              "Text(0, 0.5, 'Number of images')"
            ]
          },
          "metadata": {},
          "execution_count": 8
        },
        {
          "output_type": "display_data",
          "data": {
            "text/plain": [
              "<Figure size 640x480 with 1 Axes>"
            ],
            "image/png": "[encoded data removed]"
          },
          "metadata": {}
        }
      ]
    },
    {
      "cell_type": "code",
      "source": [
        "from keras.applications import VGG19\n",
        "from keras.layers import *\n",
        "from keras import Sequential\n",
        "\n",
        "### Parameters\n",
        "# learning_rate   = 0.0001\n",
        "# decay_speed     = 1e-6\n",
        "# momentum        = 0.09\n",
        "\n",
        "# loss_function   = \"sparse_categorical_crossentropy\"\n",
        "source_model = VGG19(weights=None)\n",
        "#new_layer = Dense(num_classes, activation=activations.softmax, name='prediction')\n",
        "drop_layer = Dropout(0.5)\n",
        "drop_layer2 = Dropout(0.5)\n",
        "\n",
        "\n",
        "model = Sequential()\n",
        "for layer in source_model.layers[:-1]: # go through until last layer\n",
        "    if layer == source_model.layers[-25]:\n",
        "        model.add(BatchNormalization())\n",
        "    model.add(layer)\n",
        "#     if layer == source_model.layers[-3]:\n",
        "#         model.add(drop_layer)\n",
        "# model.add(drop_layer2)\n",
        "model.add(Dense(num_classes, activation=\"softmax\"))\n",
        "model.summary()\n",
        "\n",
        "\n",
        "opt1 = keras.optimizers.RMSprop(learning_rate = 0.0001, momentum = 0.09)\n",
        "opt2 = keras.optimizers.Adam(learning_rate=0.001, beta_1=0.9, beta_2=0.999, epsilon=1e-07)\n",
        "model.compile(optimizer=opt1,\n",
        "             loss=\"sparse_categorical_crossentropy\",\n",
        "             metrics=[\"accuracy\"])\n",
        "\n",
        "#sgd = SGD(lr=learning_rate, decay=decay_speed, momentum=momentum, nesterov=True)\n",
        "# rms = keras.optimizers.RMSprop(lr=learning_rate, momentum=momentum)\n",
        "# model.compile(optimizer=rms,\n",
        "#               loss=loss_function,\n",
        "#               metrics=[\"accuracy\"])\n",
        "# print(\"Model compiled! \\n\")"
      ],
      "metadata": {
        "colab": {
          "base_uri": "https://localhost:8080/"
        },
        "id": "3SxFQY6FauCX",
        "outputId": "d378170c-7867-4652-eb24-a41a448eac97"
      },
      "execution_count": 11,
      "outputs": [
        {
          "output_type": "stream",
          "name": "stdout",
          "text": [
            "Model: \"sequential\"\n",
            "_________________________________________________________________\n",
            " Layer (type)                Output Shape              Param #   \n",
            "=================================================================\n",
            " batch_normalization (Batch  (None, 224, 224, 3)       12        \n",
            " Normalization)                                                  \n",
            "                                                                 \n",
            " block1_conv1 (Conv2D)       (None, 224, 224, 64)      1792      \n",
            "                                                                 \n",
            " block1_conv2 (Conv2D)       (None, 224, 224, 64)      36928     \n",
            "                                                                 \n",
            " block1_pool (MaxPooling2D)  (None, 112, 112, 64)      0         \n",
            "                                                                 \n",
            " block2_conv1 (Conv2D)       (None, 112, 112, 128)     73856     \n",
            "                                                                 \n",
            " block2_conv2 (Conv2D)       (None, 112, 112, 128)     147584    \n",
            "                                                                 \n",
            " block2_pool (MaxPooling2D)  (None, 56, 56, 128)       0         \n",
            "                                                                 \n",
            " block3_conv1 (Conv2D)       (None, 56, 56, 256)       295168    \n",
            "                                                                 \n",
            " block3_conv2 (Conv2D)       (None, 56, 56, 256)       590080    \n",
            "                                                                 \n",
            " block3_conv3 (Conv2D)       (None, 56, 56, 256)       590080    \n",
            "                                                                 \n",
            " block3_conv4 (Conv2D)       (None, 56, 56, 256)       590080    \n",
            "                                                                 \n",
            " block3_pool (MaxPooling2D)  (None, 28, 28, 256)       0         \n",
            "                                                                 \n",
            " block4_conv1 (Conv2D)       (None, 28, 28, 512)       1180160   \n",
            "                                                                 \n",
            " block4_conv2 (Conv2D)       (None, 28, 28, 512)       2359808   \n",
            "                                                                 \n",
            " block4_conv3 (Conv2D)       (None, 28, 28, 512)       2359808   \n",
            "                                                                 \n",
            " block4_conv4 (Conv2D)       (None, 28, 28, 512)       2359808   \n",
            "                                                                 \n",
            " block4_pool (MaxPooling2D)  (None, 14, 14, 512)       0         \n",
            "                                                                 \n",
            " block5_conv1 (Conv2D)       (None, 14, 14, 512)       2359808   \n",
            "                                                                 \n",
            " block5_conv2 (Conv2D)       (None, 14, 14, 512)       2359808   \n",
            "                                                                 \n",
            " block5_conv3 (Conv2D)       (None, 14, 14, 512)       2359808   \n",
            "                                                                 \n",
            " block5_conv4 (Conv2D)       (None, 14, 14, 512)       2359808   \n",
            "                                                                 \n",
            " block5_pool (MaxPooling2D)  (None, 7, 7, 512)         0         \n",
            "                                                                 \n",
            " flatten (Flatten)           (None, 25088)             0         \n",
            "                                                                 \n",
            " fc1 (Dense)                 (None, 4096)              102764544 \n",
            "                                                                 \n",
            " fc2 (Dense)                 (None, 4096)              16781312  \n",
            "                                                                 \n",
            " dense (Dense)               (None, 1020)              4178940   \n",
            "                                                                 \n",
            "=================================================================\n",
            "Total params: 143749192 (548.36 MB)\n",
            "Trainable params: 143749186 (548.36 MB)\n",
            "Non-trainable params: 6 (24.00 Byte)\n",
            "_________________________________________________________________\n"
          ]
        }
      ]
    }
  ]
}